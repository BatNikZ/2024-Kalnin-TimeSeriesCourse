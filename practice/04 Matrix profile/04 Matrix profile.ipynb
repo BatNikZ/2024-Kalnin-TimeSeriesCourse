{
 "cells": [
  {
   "cell_type": "markdown",
   "metadata": {
    "id": "848J-iNspu81"
   },
   "source": [
    "# Анализ и прогнозирование временных рядов методами искусственного интеллекта\n",
    "\n",
    "## **Практическая работа 4. Матричный профиль. Поиск примитивов на его основе.**"
   ]
  },
  {
   "cell_type": "markdown",
   "metadata": {
    "id": "uBwKu7MQ6pnH"
   },
   "source": [
    "Смените рабочую директорию с помощью команды `chdir()`. Для этого передайте этой команде свой путь до каталога, в котором содержатся материалы четвертой практической работы. После выполнения этой команды все последующие операции с файлами и каталогами будут производиться относительно указанного каталога."
   ]
  },
  {
   "cell_type": "code",
   "execution_count": 1,
   "metadata": {
    "id": "pBTFTExaqX03"
   },
   "outputs": [],
   "source": [
    "import os\n",
    "\n",
    "practice_dir_path = r'C:\\Users\\nikik\\PycharmProjects\\2024-Kalnin-TimeSeriesCourse\\practice\\04 Matrix profile'\n",
    "os.chdir(practice_dir_path)"
   ]
  },
  {
   "cell_type": "markdown",
   "metadata": {
    "id": "1_QRW2q86rZW"
   },
   "source": [
    "Выполните команды, которые автоматически перезагружают все импортированные модули при их изменении."
   ]
  },
  {
   "cell_type": "code",
   "execution_count": 2,
   "metadata": {
    "id": "6emyv2OuZpLO"
   },
   "outputs": [],
   "source": [
    "%load_ext autoreload\n",
    "%autoreload 2"
   ]
  },
  {
   "cell_type": "markdown",
   "metadata": {
    "id": "pwafRieiBj4V"
   },
   "source": [
    "Импортируйте библиотеки и модули, необходимые для реализации практической работы 4."
   ]
  },
  {
   "cell_type": "code",
   "execution_count": 3,
   "metadata": {
    "id": "Agb3GWvGWbql"
   },
   "outputs": [
    {
     "name": "stdout",
     "output_type": "stream",
     "text": [
      "Requirement already satisfied: stumpy in c:\\users\\nikik\\pycharmprojects\\2024-kalnin-timeseriescourse\\venv\\lib\\site-packages (1.11.1)\n",
      "Requirement already satisfied: numpy>=1.17 in c:\\users\\nikik\\pycharmprojects\\2024-kalnin-timeseriescourse\\venv\\lib\\site-packages (from stumpy) (2.0.2)\n",
      "Requirement already satisfied: scipy>=1.5 in c:\\users\\nikik\\pycharmprojects\\2024-kalnin-timeseriescourse\\venv\\lib\\site-packages (from stumpy) (1.14.1)\n",
      "Requirement already satisfied: numba>=0.54 in c:\\users\\nikik\\pycharmprojects\\2024-kalnin-timeseriescourse\\venv\\lib\\site-packages (from stumpy) (0.60.0)\n",
      "Requirement already satisfied: llvmlite<0.44,>=0.43.0dev0 in c:\\users\\nikik\\pycharmprojects\\2024-kalnin-timeseriescourse\\venv\\lib\\site-packages (from numba>=0.54->stumpy) (0.43.0)\n"
     ]
    },
    {
     "name": "stderr",
     "output_type": "stream",
     "text": [
      "\n",
      "[notice] A new release of pip is available: 23.2.1 -> 24.3.1\n",
      "[notice] To update, run: python.exe -m pip install --upgrade pip\n"
     ]
    }
   ],
   "source": [
    "!pip install stumpy"
   ]
  },
  {
   "cell_type": "code",
   "execution_count": 4,
   "metadata": {
    "id": "_9Sf36euo_xp"
   },
   "outputs": [
    {
     "data": {
      "text/html": [
       "        <script type=\"text/javascript\">\n",
       "        window.PlotlyConfig = {MathJaxConfig: 'local'};\n",
       "        if (window.MathJax && window.MathJax.Hub && window.MathJax.Hub.Config) {window.MathJax.Hub.Config({SVG: {font: \"STIX-Web\"}});}\n",
       "        if (typeof require !== 'undefined') {\n",
       "        require.undef(\"plotly\");\n",
       "        requirejs.config({\n",
       "            paths: {\n",
       "                'plotly': ['https://cdn.plot.ly/plotly-2.35.2.min']\n",
       "            }\n",
       "        });\n",
       "        require(['plotly'], function(Plotly) {\n",
       "            window._Plotly = Plotly;\n",
       "        });\n",
       "        }\n",
       "        </script>\n",
       "        "
      ]
     },
     "metadata": {},
     "output_type": "display_data"
    },
    {
     "data": {
      "text/html": [
       "        <script type=\"text/javascript\">\n",
       "        window.PlotlyConfig = {MathJaxConfig: 'local'};\n",
       "        if (window.MathJax && window.MathJax.Hub && window.MathJax.Hub.Config) {window.MathJax.Hub.Config({SVG: {font: \"STIX-Web\"}});}\n",
       "        if (typeof require !== 'undefined') {\n",
       "        require.undef(\"plotly\");\n",
       "        requirejs.config({\n",
       "            paths: {\n",
       "                'plotly': ['https://cdn.plot.ly/plotly-2.35.2.min']\n",
       "            }\n",
       "        });\n",
       "        require(['plotly'], function(Plotly) {\n",
       "            window._Plotly = Plotly;\n",
       "        });\n",
       "        }\n",
       "        </script>\n",
       "        "
      ]
     },
     "metadata": {},
     "output_type": "display_data"
    }
   ],
   "source": [
    "import pandas as pd\n",
    "import numpy as np\n",
    "import os\n",
    "import datetime\n",
    "\n",
    "from modules.plots import *\n",
    "from modules.mp import compute_mp\n",
    "from modules.motifs import top_k_motifs\n",
    "from modules.discords import top_k_discords\n",
    "from modules.meter_swapping_detection import *"
   ]
  },
  {
   "cell_type": "markdown",
   "metadata": {
    "id": "3hWXaYNkW-Jd"
   },
   "source": [
    "## **Часть 1.** Матричный профиль. Поиск мотивов и диссонансов."
   ]
  },
  {
   "cell_type": "markdown",
   "metadata": {
    "id": "qTyoiarh4XFT"
   },
   "source": [
    "### **Задача 1.**\n",
    "Загрузите временной ряд, который содержит данные о почасовом потреблении электроэнергии некоторого итальянского города, снимаемые в течение 3 лет, начиная с 1 января 1995 года."
   ]
  },
  {
   "cell_type": "code",
   "execution_count": 5,
   "metadata": {
    "id": "SZ3azydoo_4j"
   },
   "outputs": [],
   "source": [
    "ts_url = './datasets/part1/italianpowerdemand.csv'\n",
    "\n",
    "ts = pd.read_csv(ts_url, header=None).squeeze().to_numpy()"
   ]
  },
  {
   "cell_type": "markdown",
   "metadata": {
    "id": "19sRAD-C1EjJ"
   },
   "source": [
    "Визуализируйте временной ряд, используя функцию `plot_ts()` из модуля *plot.py*."
   ]
  },
  {
   "cell_type": "code",
   "execution_count": 6,
   "metadata": {
    "editable": true,
    "id": "ofcLi1TaXjpL",
    "slideshow": {
     "slide_type": ""
    },
    "tags": []
   },
   "outputs": [],
   "source": [
    "plot_ts(ts, \"Input time series\")"
   ]
  },
  {
   "cell_type": "markdown",
   "metadata": {
    "id": "nsM9BgYUjiRV"
   },
   "source": [
    "Анализ временных рядов на основе матричного профиля осуществляет библиотека [stumpy](https://stumpy.readthedocs.io/en/latest/index.html). Напишите функцию `compute_mp()` в модуле *mp.py*, которая вычисляет матричный профиль временного ряда на основе выбранной вами функции из библиотеки *stumpy*."
   ]
  },
  {
   "cell_type": "code",
   "execution_count": 7,
   "metadata": {
    "id": "i1OfGheUpAC7"
   },
   "outputs": [],
   "source": [
    "m = 165\n",
    "excl_zone = int(np.ceil(m / 2))\n",
    "mp = {}\n",
    "\n",
    "# INSERT YOUR CODE\n",
    "mp = compute_mp(ts, m, excl_zone)"
   ]
  },
  {
   "cell_type": "markdown",
   "metadata": {
    "id": "cxNnIDcsjf9M"
   },
   "source": [
    "Визуализируйте найденный матричный профиль ряда."
   ]
  },
  {
   "cell_type": "code",
   "execution_count": 8,
   "metadata": {
    "id": "708AtgfVZSi6"
   },
   "outputs": [],
   "source": [
    "plot_ts(mp['mp'], \"Matrix Profile\")"
   ]
  },
  {
   "cell_type": "markdown",
   "metadata": {
    "id": "iP2VhH2S4Z6c"
   },
   "source": [
    "### **Задача 2.**\n",
    "Выполните поиск top-$k$ мотивов в исходном временном ряде на основе построенного матричного профиля. Для этого реализуйте самостоятельно функцию `top_k_motifs()` в модуле *motifs.py*. Среди найденных мотивов не должно быть тривиальных совпадений, поэтому в `top_k_motifs()` добавьте вызов функции `apply_exclusion_zone()` из модуля *utils.py*."
   ]
  },
  {
   "cell_type": "code",
   "execution_count": 9,
   "metadata": {
    "id": "DcL9ITEI6YHS"
   },
   "outputs": [],
   "source": [
    "top_k = 6\n",
    "motifs = {}\n",
    "\n",
    "# INSERT YOUR CODE\n",
    "motifs=top_k_motifs(mp, top_k)"
   ]
  },
  {
   "cell_type": "code",
   "execution_count": 10,
   "metadata": {},
   "outputs": [
    {
     "data": {
      "text/plain": [
       "{'indices': [(np.int64(17852), 18188),\n",
       "  (np.int64(18188), 17852),\n",
       "  (np.int64(18539), 27276),\n",
       "  (np.int64(27276), 18539),\n",
       "  (np.int64(19168), 28073),\n",
       "  (np.int64(28073), 19168)],\n",
       " 'distances': [1.2266251888823383,\n",
       "  1.2266251888823383,\n",
       "  1.2356334381445668,\n",
       "  1.2356334381445668,\n",
       "  1.2455578192681565,\n",
       "  1.2455578192681565]}"
      ]
     },
     "execution_count": 10,
     "metadata": {},
     "output_type": "execute_result"
    }
   ],
   "source": [
    "motifs"
   ]
  },
  {
   "cell_type": "markdown",
   "metadata": {
    "id": "W5fDQZxE4iPn"
   },
   "source": [
    "Выполните визуализацию найденных top-$k$ мотивов с помощью функции `plot_motifs()` из *plots.py*."
   ]
  },
  {
   "cell_type": "code",
   "execution_count": 11,
   "metadata": {
    "id": "5xWtssYsKLN-"
   },
   "outputs": [],
   "source": [
    "plot_motifs(mp, motifs)"
   ]
  },
  {
   "cell_type": "markdown",
   "metadata": {
    "id": "prawVSmlIUQr"
   },
   "source": [
    "![equation.png](data:image/png;base64,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)\n",
    "Проанализируйте и изложите содержательный смысл полученных результатов."
   ]
  },
  {
   "cell_type": "markdown",
   "metadata": {
    "id": "9Y4zIaIoIUlf"
   },
   "source": [
    "*# WRITE YOUR ANSWER*"
   ]
  },
  {
   "cell_type": "markdown",
   "metadata": {},
   "source": [
    "С помощью матричного профиля можно находить мотивы."
   ]
  },
  {
   "cell_type": "markdown",
   "metadata": {
    "id": "TPppwxlR4qdU"
   },
   "source": [
    "### **Задача 3.**\n",
    "Реализуйте самостоятельно функцию `top_k_discords()` в модуле *discords.py*, предназначенную для поиска top-$k$ диссонансов во временном ряде на основе матричного профиля. Чтобы исключить попадание тривиальных совпадений в результирующее множество диссонансов воспользуйтесь функцией `apply_exclusion_zone()` из модуля *utils.py*.\n",
    "\n",
    "Загрузите временной ряд *nyc_taxi.csv* из директории *./datasets/part1/*, содежащий данные о среднем числе пассажиров NY такси за осень 2014 года."
   ]
  },
  {
   "cell_type": "code",
   "execution_count": 12,
   "metadata": {
    "id": "zqe65SjrWYfk"
   },
   "outputs": [],
   "source": [
    "ts_url = './datasets/part1/nyc_taxi.csv'\n",
    "\n",
    "ts = pd.read_csv(ts_url, index_col=0, header=0).squeeze().to_numpy()\n",
    "plot_ts(ts, \"Input time series\")"
   ]
  },
  {
   "cell_type": "code",
   "execution_count": 13,
   "metadata": {
    "id": "Z21Gagpq5VY0"
   },
   "outputs": [],
   "source": [
    "m = 96\n",
    "excl_zone = int(np.ceil(m / 2))\n",
    "mp = {}\n",
    "\n",
    "# INSERT YOUR CODE\n",
    "mp = compute_mp(ts, m, excl_zone)"
   ]
  },
  {
   "cell_type": "code",
   "execution_count": 14,
   "metadata": {
    "id": "I778nahoyDMM"
   },
   "outputs": [],
   "source": [
    "top_k = 15\n",
    "discords = {}\n",
    "\n",
    "# INSERT YOUR CODE\n",
    "discords=top_k_discords(mp, top_k)"
   ]
  },
  {
   "cell_type": "markdown",
   "metadata": {
    "id": "f1R81qZg4tgy"
   },
   "source": [
    "Выполните визуализацию найденных top-$k$ диссонансов."
   ]
  },
  {
   "cell_type": "code",
   "execution_count": 15,
   "metadata": {
    "id": "e2GYVOqQVV-A"
   },
   "outputs": [],
   "source": [
    "plot_discords(mp, discords)"
   ]
  },
  {
   "cell_type": "markdown",
   "metadata": {
    "id": "JQPR9JHMH3qt"
   },
   "source": [
    "![equation.png](data:image/png;base64,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)\n",
    "Проанализируйте и изложите содержательный смысл полученных результатов."
   ]
  },
  {
   "cell_type": "markdown",
   "metadata": {
    "id": "6ihowl1fH48e"
   },
   "source": [
    "*# WRITE YOUR ANSWER*"
   ]
  },
  {
   "cell_type": "markdown",
   "metadata": {},
   "source": [
    "С помощью матричных профилей можно находить диссонансы."
   ]
  },
  {
   "cell_type": "markdown",
   "metadata": {
    "id": "52Wn93r8lvzv"
   },
   "source": [
    "## **Часть 2.** Сегментация повторяющихся активностей."
   ]
  },
  {
   "cell_type": "markdown",
   "metadata": {
    "id": "83c-Seb02J05"
   },
   "source": [
    "### **Задача 4.**\n",
    "\n",
    "Загрузите временной ряд PAMAP *pamap.csv* из директории *./datasets/part2/*, представляющий собой показания закрепленного на человеке виброакселерометра. Данный ряд включает показания, снятые при выполнении человеком трех видов физической активности: ходьба, подъем по лестнице и спуск по лестнице. Необходимо сегментировать временной ряд на основе его матричного профиля для определения того, когда человек шел и когда поднимался/спускался. Поскольку подъем и спуск по лестнице – это схожие действия, поэтому будем считать, что это одна активность.  "
   ]
  },
  {
   "cell_type": "code",
   "execution_count": 16,
   "metadata": {
    "id": "IQEievnVSYZ5"
   },
   "outputs": [],
   "source": [
    "ts_url = './datasets/part2/pamap.csv'\n",
    "\n",
    "ts = pd.read_csv(ts_url, header=None).squeeze().to_numpy()"
   ]
  },
  {
   "cell_type": "markdown",
   "metadata": {
    "id": "CcJiFjZdNReI"
   },
   "source": [
    "Визуализируйте временной ряд PAMAP."
   ]
  },
  {
   "cell_type": "code",
   "execution_count": 17,
   "metadata": {
    "id": "1CV8ncpZSYml"
   },
   "outputs": [],
   "source": [
    "plot_ts(ts, \"Input time series\")"
   ]
  },
  {
   "cell_type": "markdown",
   "metadata": {
    "id": "5X7RgWWZNXy6"
   },
   "source": [
    "Найдите и визуализируйте матричный профиль временного ряда."
   ]
  },
  {
   "cell_type": "code",
   "execution_count": 18,
   "metadata": {
    "id": "1JCQILbxSY01"
   },
   "outputs": [],
   "source": [
    "m = 100\n",
    "excl_zone = m\n",
    "mp = {}\n",
    "\n",
    "# INSERT YOUR CODE\n",
    "mp = compute_mp(ts, m, excl_zone) "
   ]
  },
  {
   "cell_type": "code",
   "execution_count": 19,
   "metadata": {
    "id": "PrWME8r8SZEh"
   },
   "outputs": [],
   "source": [
    "plot_ts(mp['mp'], \"Matrix Profile\")"
   ]
  },
  {
   "cell_type": "markdown",
   "metadata": {
    "id": "iHlrsF1YxEj_"
   },
   "source": [
    "Вычислите порог по формуле, которая представлена в презентации [04 Matrix profile.pdf](https://github.com/mzym/TimeSeriesCourse/blob/main/slides/04%20Matrix%20profile.pdf)."
   ]
  },
  {
   "cell_type": "code",
   "execution_count": 20,
   "metadata": {
    "id": "V2Dmy8RDUELn"
   },
   "outputs": [],
   "source": [
    "threshold = 0\n",
    "\n",
    "# INSERT YOUR CODE\n",
    "\n",
    "def calc_threshold(mp):\n",
    "    profile_distances = np.array(mp['mp'], dtype=float)\n",
    "    \n",
    "    min_mp = np.min(profile_distances[np.isfinite(profile_distances)])\n",
    "    max_mp = np.max(profile_distances[np.isfinite(profile_distances)])\n",
    "\n",
    "    return (min_mp + max_mp) / 2"
   ]
  },
  {
   "cell_type": "code",
   "execution_count": 21,
   "metadata": {},
   "outputs": [
    {
     "data": {
      "text/plain": [
       "np.float64(6.246194213839475)"
      ]
     },
     "execution_count": 21,
     "metadata": {},
     "output_type": "execute_result"
    }
   ],
   "source": [
    "threshold = calc_threshold(mp)\n",
    "threshold"
   ]
  },
  {
   "cell_type": "markdown",
   "metadata": {
    "id": "K5JgTIJPxTR7"
   },
   "source": [
    "Выполните визуализацию результатов сегментации повторяющихся активностей."
   ]
  },
  {
   "cell_type": "code",
   "execution_count": 22,
   "metadata": {
    "id": "zQDEJ4mVV4UM"
   },
   "outputs": [],
   "source": [
    "plot_segmentation(mp, threshold)"
   ]
  },
  {
   "cell_type": "markdown",
   "metadata": {
    "id": "FAnTDBq9TJdy"
   },
   "source": [
    "Загрузите истинную разметку временного ряда PAMAP *pamap_labels.csv*, где 0 означает ходьбу, 1 – подъем по лестнице, 2 – спуск с лестницы. Вычислите точность по метрике accuracy, сравнив полученные результаты по основе матричного профиля с истинной разметкой."
   ]
  },
  {
   "cell_type": "code",
   "execution_count": 23,
   "metadata": {
    "id": "2Gy0ekSTT_cN"
   },
   "outputs": [],
   "source": [
    "labels_url = './datasets/part2/pamap_labels.csv'\n",
    "\n",
    "labels = pd.read_csv(labels_url, header=None).squeeze().to_numpy()"
   ]
  },
  {
   "cell_type": "code",
   "execution_count": 24,
   "metadata": {
    "id": "0j240KlM24lT"
   },
   "outputs": [],
   "source": [
    "# INSERT YOUR CODE\n",
    "labels[labels==2] = 1 #Приведение спуска и подъёма с лестницы к одному классу"
   ]
  },
  {
   "cell_type": "code",
   "execution_count": 25,
   "metadata": {},
   "outputs": [],
   "source": [
    "profile_distances = np.array(mp['mp'], dtype=float)\n",
    "predicted_labels = np.zeros(len(profile_distances), dtype=int)\n",
    "predicted_labels[profile_distances > threshold] = 0 # ходьба\n",
    "predicted_labels[profile_distances < threshold] = 1 # лестница"
   ]
  },
  {
   "cell_type": "code",
   "execution_count": 26,
   "metadata": {},
   "outputs": [
    {
     "name": "stdout",
     "output_type": "stream",
     "text": [
      "Длина true_labels: 31000\n",
      "Длина predicted_labels: 30901\n"
     ]
    }
   ],
   "source": [
    "# Проверка длины массивов\n",
    "print(f\"Длина true_labels: {len(labels)}\")\n",
    "print(f\"Длина predicted_labels: {len(predicted_labels)}\")"
   ]
  },
  {
   "cell_type": "code",
   "execution_count": 27,
   "metadata": {},
   "outputs": [],
   "source": [
    "min_length = min(len(labels), len(predicted_labels))\n",
    "labels = labels[:min_length]\n",
    "predicted_labels = predicted_labels[:min_length]"
   ]
  },
  {
   "cell_type": "code",
   "execution_count": 28,
   "metadata": {},
   "outputs": [
    {
     "name": "stdout",
     "output_type": "stream",
     "text": [
      "Точность сегментации по метрике accuracy: 93.84%\n"
     ]
    }
   ],
   "source": [
    "from sklearn.metrics import accuracy_score\n",
    "accuracy = accuracy_score(labels, predicted_labels)\n",
    "print(f\"Точность сегментации по метрике accuracy: {accuracy:.2%}\")"
   ]
  },
  {
   "cell_type": "markdown",
   "metadata": {
    "id": "0XsJfvsDwEs9"
   },
   "source": [
    "## **Чaсть 3.** Casy Study: Раскрытие краж электричества подменой счетчиков (meter-swapping detection).\n"
   ]
  },
  {
   "cell_type": "markdown",
   "metadata": {
    "id": "ASHK6nFV2M3x"
   },
   "source": [
    "### **Задача 5.**\n",
    "\n",
    "Рассмотрим практическое применение использования матричного профиля для решения задачи, связанной с раскрытием краж электричества путем подмены счетчиков.\n",
    "\n",
    "Загрузите временные ряды из директории *./datasets/part3/*, которые были выбраны случайным образом из набора данных (House 1, 2, 3, 4 и 11), содержащего данные потребления электроэнергии 20 жилых домов в Великобритании с 1 января по 23 декабря 2014 года."
   ]
  },
  {
   "cell_type": "code",
   "execution_count": 29,
   "metadata": {
    "id": "9A-Kr4YLxSIW"
   },
   "outputs": [
    {
     "ename": "ValueError",
     "evalue": "time data \"2014-01-13 00:00:00\" doesn't match format \"%Y-%d-%m %H:%M:%S\", at position 288. You might want to try:\n    - passing `format` if your strings have a consistent format;\n    - passing `format='ISO8601'` if your strings are all ISO8601 but not necessarily in exactly the same format;\n    - passing `format='mixed'`, and the format will be inferred for each element individually. You might want to use `dayfirst` alongside this.",
     "output_type": "error",
     "traceback": [
      "\u001b[1;31m---------------------------------------------------------------------------\u001b[0m",
      "\u001b[1;31mValueError\u001b[0m                                Traceback (most recent call last)",
      "Cell \u001b[1;32mIn[29], line 10\u001b[0m\n\u001b[0;32m      8\u001b[0m \u001b[38;5;28;01mfor\u001b[39;00m house \u001b[38;5;129;01min\u001b[39;00m filenames:\n\u001b[0;32m      9\u001b[0m     consumptions[house[:\u001b[38;5;241m-\u001b[39m\u001b[38;5;241m4\u001b[39m]] \u001b[38;5;241m=\u001b[39m pd\u001b[38;5;241m.\u001b[39mread_csv(os\u001b[38;5;241m.\u001b[39mpath\u001b[38;5;241m.\u001b[39mjoin(path, house), header\u001b[38;5;241m=\u001b[39m\u001b[38;5;28;01mNone\u001b[39;00m, index_col\u001b[38;5;241m=\u001b[39m\u001b[38;5;241m0\u001b[39m)\n\u001b[1;32m---> 10\u001b[0m     consumptions[house[:\u001b[38;5;241m-\u001b[39m\u001b[38;5;241m4\u001b[39m]]\u001b[38;5;241m.\u001b[39mindex \u001b[38;5;241m=\u001b[39m \u001b[43mpd\u001b[49m\u001b[38;5;241;43m.\u001b[39;49m\u001b[43mto_datetime\u001b[49m\u001b[43m(\u001b[49m\u001b[43mconsumptions\u001b[49m\u001b[43m[\u001b[49m\u001b[43mhouse\u001b[49m\u001b[43m[\u001b[49m\u001b[43m:\u001b[49m\u001b[38;5;241;43m-\u001b[39;49m\u001b[38;5;241;43m4\u001b[39;49m\u001b[43m]\u001b[49m\u001b[43m]\u001b[49m\u001b[38;5;241;43m.\u001b[39;49m\u001b[43mindex\u001b[49m\u001b[43m,\u001b[49m\u001b[43m \u001b[49m\u001b[43mdayfirst\u001b[49m\u001b[38;5;241;43m=\u001b[39;49m\u001b[38;5;28;43;01mTrue\u001b[39;49;00m\u001b[43m)\u001b[49m\n",
      "File \u001b[1;32m~\\PycharmProjects\\2024-Kalnin-TimeSeriesCourse\\venv\\lib\\site-packages\\pandas\\core\\tools\\datetimes.py:1076\u001b[0m, in \u001b[0;36mto_datetime\u001b[1;34m(arg, errors, dayfirst, yearfirst, utc, format, exact, unit, infer_datetime_format, origin, cache)\u001b[0m\n\u001b[0;32m   1074\u001b[0m         result \u001b[38;5;241m=\u001b[39m _convert_and_box_cache(arg, cache_array, name\u001b[38;5;241m=\u001b[39marg\u001b[38;5;241m.\u001b[39mname)\n\u001b[0;32m   1075\u001b[0m     \u001b[38;5;28;01melse\u001b[39;00m:\n\u001b[1;32m-> 1076\u001b[0m         result \u001b[38;5;241m=\u001b[39m \u001b[43mconvert_listlike\u001b[49m\u001b[43m(\u001b[49m\u001b[43marg\u001b[49m\u001b[43m,\u001b[49m\u001b[43m \u001b[49m\u001b[38;5;28;43mformat\u001b[39;49m\u001b[43m,\u001b[49m\u001b[43m \u001b[49m\u001b[43mname\u001b[49m\u001b[38;5;241;43m=\u001b[39;49m\u001b[43marg\u001b[49m\u001b[38;5;241;43m.\u001b[39;49m\u001b[43mname\u001b[49m\u001b[43m)\u001b[49m\n\u001b[0;32m   1077\u001b[0m \u001b[38;5;28;01melif\u001b[39;00m is_list_like(arg):\n\u001b[0;32m   1078\u001b[0m     \u001b[38;5;28;01mtry\u001b[39;00m:\n\u001b[0;32m   1079\u001b[0m         \u001b[38;5;66;03m# error: Argument 1 to \"_maybe_cache\" has incompatible type\u001b[39;00m\n\u001b[0;32m   1080\u001b[0m         \u001b[38;5;66;03m# \"Union[float, str, datetime, List[Any], Tuple[Any, ...], ExtensionArray,\u001b[39;00m\n\u001b[0;32m   1081\u001b[0m         \u001b[38;5;66;03m# ndarray[Any, Any], Series]\"; expected \"Union[List[Any], Tuple[Any, ...],\u001b[39;00m\n\u001b[0;32m   1082\u001b[0m         \u001b[38;5;66;03m# Union[Union[ExtensionArray, ndarray[Any, Any]], Index, Series], Series]\"\u001b[39;00m\n",
      "File \u001b[1;32m~\\PycharmProjects\\2024-Kalnin-TimeSeriesCourse\\venv\\lib\\site-packages\\pandas\\core\\tools\\datetimes.py:433\u001b[0m, in \u001b[0;36m_convert_listlike_datetimes\u001b[1;34m(arg, format, name, utc, unit, errors, dayfirst, yearfirst, exact)\u001b[0m\n\u001b[0;32m    431\u001b[0m \u001b[38;5;66;03m# `format` could be inferred, or user didn't ask for mixed-format parsing.\u001b[39;00m\n\u001b[0;32m    432\u001b[0m \u001b[38;5;28;01mif\u001b[39;00m \u001b[38;5;28mformat\u001b[39m \u001b[38;5;129;01mis\u001b[39;00m \u001b[38;5;129;01mnot\u001b[39;00m \u001b[38;5;28;01mNone\u001b[39;00m \u001b[38;5;129;01mand\u001b[39;00m \u001b[38;5;28mformat\u001b[39m \u001b[38;5;241m!=\u001b[39m \u001b[38;5;124m\"\u001b[39m\u001b[38;5;124mmixed\u001b[39m\u001b[38;5;124m\"\u001b[39m:\n\u001b[1;32m--> 433\u001b[0m     \u001b[38;5;28;01mreturn\u001b[39;00m \u001b[43m_array_strptime_with_fallback\u001b[49m\u001b[43m(\u001b[49m\u001b[43marg\u001b[49m\u001b[43m,\u001b[49m\u001b[43m \u001b[49m\u001b[43mname\u001b[49m\u001b[43m,\u001b[49m\u001b[43m \u001b[49m\u001b[43mutc\u001b[49m\u001b[43m,\u001b[49m\u001b[43m \u001b[49m\u001b[38;5;28;43mformat\u001b[39;49m\u001b[43m,\u001b[49m\u001b[43m \u001b[49m\u001b[43mexact\u001b[49m\u001b[43m,\u001b[49m\u001b[43m \u001b[49m\u001b[43merrors\u001b[49m\u001b[43m)\u001b[49m\n\u001b[0;32m    435\u001b[0m result, tz_parsed \u001b[38;5;241m=\u001b[39m objects_to_datetime64(\n\u001b[0;32m    436\u001b[0m     arg,\n\u001b[0;32m    437\u001b[0m     dayfirst\u001b[38;5;241m=\u001b[39mdayfirst,\n\u001b[1;32m   (...)\u001b[0m\n\u001b[0;32m    441\u001b[0m     allow_object\u001b[38;5;241m=\u001b[39m\u001b[38;5;28;01mTrue\u001b[39;00m,\n\u001b[0;32m    442\u001b[0m )\n\u001b[0;32m    444\u001b[0m \u001b[38;5;28;01mif\u001b[39;00m tz_parsed \u001b[38;5;129;01mis\u001b[39;00m \u001b[38;5;129;01mnot\u001b[39;00m \u001b[38;5;28;01mNone\u001b[39;00m:\n\u001b[0;32m    445\u001b[0m     \u001b[38;5;66;03m# We can take a shortcut since the datetime64 numpy array\u001b[39;00m\n\u001b[0;32m    446\u001b[0m     \u001b[38;5;66;03m# is in UTC\u001b[39;00m\n",
      "File \u001b[1;32m~\\PycharmProjects\\2024-Kalnin-TimeSeriesCourse\\venv\\lib\\site-packages\\pandas\\core\\tools\\datetimes.py:467\u001b[0m, in \u001b[0;36m_array_strptime_with_fallback\u001b[1;34m(arg, name, utc, fmt, exact, errors)\u001b[0m\n\u001b[0;32m    456\u001b[0m \u001b[38;5;28;01mdef\u001b[39;00m \u001b[38;5;21m_array_strptime_with_fallback\u001b[39m(\n\u001b[0;32m    457\u001b[0m     arg,\n\u001b[0;32m    458\u001b[0m     name,\n\u001b[1;32m   (...)\u001b[0m\n\u001b[0;32m    462\u001b[0m     errors: \u001b[38;5;28mstr\u001b[39m,\n\u001b[0;32m    463\u001b[0m ) \u001b[38;5;241m-\u001b[39m\u001b[38;5;241m>\u001b[39m Index:\n\u001b[0;32m    464\u001b[0m \u001b[38;5;250m    \u001b[39m\u001b[38;5;124;03m\"\"\"\u001b[39;00m\n\u001b[0;32m    465\u001b[0m \u001b[38;5;124;03m    Call array_strptime, with fallback behavior depending on 'errors'.\u001b[39;00m\n\u001b[0;32m    466\u001b[0m \u001b[38;5;124;03m    \"\"\"\u001b[39;00m\n\u001b[1;32m--> 467\u001b[0m     result, tz_out \u001b[38;5;241m=\u001b[39m \u001b[43marray_strptime\u001b[49m\u001b[43m(\u001b[49m\u001b[43marg\u001b[49m\u001b[43m,\u001b[49m\u001b[43m \u001b[49m\u001b[43mfmt\u001b[49m\u001b[43m,\u001b[49m\u001b[43m \u001b[49m\u001b[43mexact\u001b[49m\u001b[38;5;241;43m=\u001b[39;49m\u001b[43mexact\u001b[49m\u001b[43m,\u001b[49m\u001b[43m \u001b[49m\u001b[43merrors\u001b[49m\u001b[38;5;241;43m=\u001b[39;49m\u001b[43merrors\u001b[49m\u001b[43m,\u001b[49m\u001b[43m \u001b[49m\u001b[43mutc\u001b[49m\u001b[38;5;241;43m=\u001b[39;49m\u001b[43mutc\u001b[49m\u001b[43m)\u001b[49m\n\u001b[0;32m    468\u001b[0m     \u001b[38;5;28;01mif\u001b[39;00m tz_out \u001b[38;5;129;01mis\u001b[39;00m \u001b[38;5;129;01mnot\u001b[39;00m \u001b[38;5;28;01mNone\u001b[39;00m:\n\u001b[0;32m    469\u001b[0m         unit \u001b[38;5;241m=\u001b[39m np\u001b[38;5;241m.\u001b[39mdatetime_data(result\u001b[38;5;241m.\u001b[39mdtype)[\u001b[38;5;241m0\u001b[39m]\n",
      "File \u001b[1;32mstrptime.pyx:501\u001b[0m, in \u001b[0;36mpandas._libs.tslibs.strptime.array_strptime\u001b[1;34m()\u001b[0m\n",
      "File \u001b[1;32mstrptime.pyx:451\u001b[0m, in \u001b[0;36mpandas._libs.tslibs.strptime.array_strptime\u001b[1;34m()\u001b[0m\n",
      "File \u001b[1;32mstrptime.pyx:583\u001b[0m, in \u001b[0;36mpandas._libs.tslibs.strptime._parse_with_format\u001b[1;34m()\u001b[0m\n",
      "\u001b[1;31mValueError\u001b[0m: time data \"2014-01-13 00:00:00\" doesn't match format \"%Y-%d-%m %H:%M:%S\", at position 288. You might want to try:\n    - passing `format` if your strings have a consistent format;\n    - passing `format='ISO8601'` if your strings are all ISO8601 but not necessarily in exactly the same format;\n    - passing `format='mixed'`, and the format will be inferred for each element individually. You might want to use `dayfirst` alongside this."
     ]
    }
   ],
   "source": [
    "path = './datasets/part3/'\n",
    "\n",
    "house_idx = [1, 2, 3, 4, 11]\n",
    "\n",
    "filenames = [f\"House{i}.csv\" for i in house_idx]\n",
    "\n",
    "consumptions = {}\n",
    "for house in filenames:\n",
    "    consumptions[house[:-4]] = pd.read_csv(os.path.join(path, house), header=None, index_col=0)\n",
    "    consumptions[house[:-4]].index = pd.to_datetime(consumptions[house[:-4]].index, dayfirst=True)"
   ]
  },
  {
   "cell_type": "markdown",
   "metadata": {
    "id": "c39xA1v37OmR"
   },
   "source": [
    "Далее смоделируем событие замены счетчика. Для этого каждый временной ряд разделим на две части: \"Head\" (до 1 октября) и \"Tail\" (после 1 октября). После чего выберем случайным образом 2 временных ряда (например, House1 и House11) и поменяем местами их \"Tail\" части."
   ]
  },
  {
   "cell_type": "code",
   "execution_count": null,
   "metadata": {
    "id": "pTs8yUyThUtk"
   },
   "outputs": [],
   "source": [
    "cutoff = pd.to_datetime('2014-10-01')\n",
    "heads, tails = heads_tails(consumptions, cutoff, house_idx)\n",
    "\n",
    "#swap Heads and Tails of 1 and 11\n",
    "swap1, swap2 = 1, 11\n",
    "consumptions[f'House{swap1}'] = heads[f'H_{swap1}'].append(tails[f'T_{swap2}'])\n",
    "consumptions[f'House{swap2}'] = heads[f'H_{swap2}'].append(tails[f'T_{swap1}'])\n",
    "heads, tails = heads_tails(consumptions, cutoff, house_idx)"
   ]
  },
  {
   "cell_type": "markdown",
   "metadata": {
    "id": "4z2ubhAE9sI4"
   },
   "source": [
    "Визуализируйте исходные временные ряды и параллельную оси OY прямую, которая делит временные ряды на \"Head\" и \"Tail\" части."
   ]
  },
  {
   "cell_type": "code",
   "execution_count": null,
   "metadata": {
    "id": "oTFAQGrw8hJe"
   },
   "outputs": [],
   "source": [
    "plot_consumptions_ts(consumptions, cutoff, house_idx)"
   ]
  },
  {
   "cell_type": "markdown",
   "metadata": {
    "id": "kRNJ11pZB8U2"
   },
   "source": [
    "Чтобы найти переставленную пару временных рядов, выполним следующее. Сначала составим временные ряды $H_i$ из всевозможных комбинаций \"Head\" и \"Tail\" частей исходных временных рядов $T_K$, где $1 \\leq i \\leq |T|^2$, $1 \\leq K \\leq |T|$. В нашем случае, $|T| = 5$.  Далее среди них найдем такую пару временных рядов $(H_i, H_j)$, которая имеет минимальную оценку $swap\\_score$. Минимальная оценка $swap\\_score$ для пары рядов $(H_i, H_j)$ вычисляется следующим образом:\n",
    "\n",
    "\\begin{equation}\n",
    "swap\\_score(i,j) = \\frac{\\min{(Head_{H_i} \\bowtie Tail_{H_j})}}{\\min{(Head_{H_i} \\bowtie Tail_{H_i})}+eps},\n",
    "\\end{equation}\n",
    "\n",
    "где $\\bowtie$ – операция нахождения матричного профиля между двумя временными рядами. Матричный профиль между двумя временными рядами содержит расстояния между всеми подпоследовательностями первого временного ряда и их ближайшими соседями, которые являются подпоследовательностями второго временного ряда.\n",
    "\n",
    "Добавьте в функцию `compute_mp()` в модуле *mp.py* поддежку вычисления матричного профиля между двумя различными временными рядами и найдите пару временных рядов $(H_i, H_j)$, которая имеет минимальную оценку $swap\\_score$ среди всех пар."
   ]
  },
  {
   "cell_type": "code",
   "execution_count": null,
   "metadata": {
    "id": "hkKNM3pPA026"
   },
   "outputs": [],
   "source": [
    "m = 24 * 4\n",
    "\n",
    "min_score = meter_swapping_detection(heads, tails, house_idx, m)"
   ]
  },
  {
   "cell_type": "code",
   "execution_count": null,
   "metadata": {
    "id": "cDHGmhq-hVfG"
   },
   "outputs": [],
   "source": [
    "min_i, min_j, mp_j = min_score['i'], min_score['j'], min_score['mp_j']\n",
    "print(f'Time series with minimum score is (H_{min_i}, T_{min_j}).')"
   ]
  },
  {
   "cell_type": "markdown",
   "metadata": {
    "id": "xDckzf0fRhoo"
   },
   "source": [
    "![equation.png](data:image/png;base64,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)\n",
    "Проанализируйте и изложите содержательный смысл полученных результатов."
   ]
  },
  {
   "cell_type": "markdown",
   "metadata": {
    "id": "4Exe26GWRlVQ"
   },
   "source": [
    "*# WRITE YOUR ANSWER*"
   ]
  }
 ],
 "metadata": {
  "colab": {
   "provenance": [],
   "toc_visible": true
  },
  "kernelspec": {
   "display_name": "Python 3 (ipykernel)",
   "language": "python",
   "name": "python3"
  },
  "language_info": {
   "codemirror_mode": {
    "name": "ipython",
    "version": 3
   },
   "file_extension": ".py",
   "mimetype": "text/x-python",
   "name": "python",
   "nbconvert_exporter": "python",
   "pygments_lexer": "ipython3",
   "version": "3.10.11"
  }
 },
 "nbformat": 4,
 "nbformat_minor": 4
}
